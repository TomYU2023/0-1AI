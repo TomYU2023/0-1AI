{
 "cells": [
  {
   "cell_type": "markdown",
   "metadata": {},
   "source": [
    "socket套接字：  \n",
    "1. 创建套接字：socket.socket(family,type,proto=0)  \n",
    "2. 绑定套接字：socket.bind(address)  \n",
    "3. 监听套接字：socket.listen(backlog)  \n",
    "4. 接收套接字：socket.accept()  \n",
    "5. 发送套接字：socket.send(bytes)  \n",
    "6. 关闭套接字：socket.close()  \n",
    "\n",
    "进程之间通讯的工具，就套接字像插座一样传输电流"
   ]
  },
  {
   "cell_type": "markdown",
   "metadata": {},
   "source": []
  }
 ],
 "metadata": {
  "language_info": {
   "name": "python"
  }
 },
 "nbformat": 4,
 "nbformat_minor": 2
}
